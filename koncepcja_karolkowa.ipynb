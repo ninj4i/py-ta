{
 "cells": [
  {
   "cell_type": "code",
   "execution_count": 62,
   "metadata": {},
   "outputs": [],
   "source": [
    "from math import sqrt, pi, atan, sin, cos\n",
    "import ezdxf\n",
    "from ezdxf.enums import TextEntityAlignment\n"
   ]
  },
  {
   "cell_type": "code",
   "execution_count": 63,
   "metadata": {},
   "outputs": [],
   "source": [
    "def obl_az(P, K):\n",
    "    dx = K.x - P.x\n",
    "    dy = K.y - P.y\n",
    "\n",
    "    if dx > 0:\n",
    "        if dy > 0:\n",
    "            return atan(dy/dx)\n",
    "        elif dy == 0:\n",
    "            return 0\n",
    "        else:\n",
    "            return atan(dy/dx) + 2 * pi\n",
    "    elif dx == 0:\n",
    "        if dy > 0:\n",
    "            return pi/2\n",
    "        elif dy < 0:\n",
    "            return 1.5 * pi\n",
    "        else:\n",
    "            return None\n",
    "    else:\n",
    "        if dy > 0:\n",
    "            return atan(dy/dx) + pi\n",
    "        elif dy == 0:\n",
    "            return pi\n",
    "        else:\n",
    "            return atan(dy/dx) + pi\n",
    "\n",
    "class Punkt:\n",
    "    def __init__(self, nr, x, y, h = None):\n",
    "        self.nr = nr\n",
    "        self.x = x\n",
    "        self.y = y\n",
    "        self.h = h if h != None else None\n",
    "\n",
    "    def odl_do(self, other):\n",
    "        return sqrt((self.x - other.x)**2 + (self.y - other.y)**2)\n",
    "\n",
    "\n",
    "\n",
    "    def __sub__(self, other):\n",
    "        return Punkt(None, self.x - other.x, self.y - other.y, self.h - other.h)\n",
    "\n",
    "    def __repr__(self):\n",
    "        if self.nr == None:\n",
    "            return(f\"[dx dy dh] : [{self.x:.3f} {self.y:.3f} {self.h:.3f}]\")\n",
    "        else:\n",
    "            return(f\"[nr x y h] : [{str(self.nr)} {self.x:.3f} {self.y:.3f} {self.h:.3f}]\")  \n",
    "\n",
    "    def __str__(self):\n",
    "        if self.nr == None:\n",
    "            return(f\"[dx dy dh] : [{self.x:.3f} {self.y:.3f} {self.h:.3f}]\")\n",
    "        else:\n",
    "            return(f\"[nr x y h] : [{str(self.nr)} {self.x:.3f} {self.y:.3f} {self.h:.3f}]\")   \n",
    "\n",
    "class LiniaPomiarowa:\n",
    "    def __init__(self, P: Punkt, K: Punkt) -> None:\n",
    "        self.P = P\n",
    "        self.K = K\n",
    "        self.dx = self.K.x - self.P.x\n",
    "        self.dy = self.K.y - self.P.y\n",
    "    \n",
    "\n",
    "        self.az = obl_az(self.P, self.K)\n",
    "        self.dl = sqrt((self.P.x - self.K.x)**2 + (self.K.y-self.P.y)**2)\n",
    "    \n",
    "    \n",
    "    def rzutuj (self, pkt: Punkt):\n",
    "        dx = pkt.x - self.P.x\n",
    "        dy = pkt.y - self.P.y\n",
    "        b = dy * sin(self.az) + dx * cos(self.az)    \n",
    "        \n",
    "        return b"
   ]
  },
  {
   "cell_type": "code",
   "execution_count": 64,
   "metadata": {},
   "outputs": [],
   "source": [
    "with open('wykaz.txt') as plik:\n",
    "    wykaz = {int(linia.strip().split()[0]) : (round(float(linia.strip().split()[1]), 3), round(float(linia.strip().split()[2]), 3), round(float(linia.strip().split()[3]),3)) for linia in plik.readlines()}\n",
    "\n",
    "    wykaz_pkt = {ki : Punkt(ki, *valju) for ki, valju in wykaz.items()}"
   ]
  },
  {
   "cell_type": "code",
   "execution_count": 65,
   "metadata": {},
   "outputs": [],
   "source": [
    "hektometr = input('Podaj hektometr: ')"
   ]
  },
  {
   "cell_type": "code",
   "execution_count": 66,
   "metadata": {},
   "outputs": [
    {
     "name": "stdout",
     "output_type": "stream",
     "text": [
      "[1, 2, 3, 4, 5, 6, 7, 8, 9, 10, 11, 12, 13]\n",
      "8\n"
     ]
    }
   ],
   "source": [
    "inpiut = input('Podaj numery punktów: skrajnego lewego, skrajnego prawego, osiowego \\nrozdzielone spacjami: ').strip().split()\n",
    "inpiut = [int(i) for i in inpiut]\n",
    "\n",
    "os = inpiut[-1]\n",
    "reverse = False\n",
    "if inpiut[0] > inpiut[1]:\n",
    "    reverse = True\n",
    "\n",
    "lista = sorted([i for i in range(min(inpiut), max(inpiut)+1)], reverse = reverse)\n",
    "\n",
    "print(lista)\n",
    "print(os)\n",
    "\n"
   ]
  },
  {
   "cell_type": "code",
   "execution_count": 67,
   "metadata": {},
   "outputs": [
    {
     "name": "stdout",
     "output_type": "stream",
     "text": [
      "-10.795117797857944\n",
      "-10.244329301252405\n",
      "-9.684513719646528\n",
      "-7.205396372444366\n",
      "-6.6862105370777725\n",
      "-3.7234649384978473\n",
      "-3.4322693579200694\n",
      "0.0\n",
      "3.630917659450482\n",
      "4.818836797437113\n",
      "7.179442852351283\n",
      "7.920975048460228\n",
      "8.269732058467937\n"
     ]
    }
   ],
   "source": [
    "LP = LiniaPomiarowa(wykaz_pkt[lista[0]],wykaz_pkt[lista[-1]])\n",
    "for p in lista:\n",
    "    print(LP.rzutuj(wykaz_pkt[p]) - LP.rzutuj(wykaz_pkt[os]))"
   ]
  },
  {
   "cell_type": "code",
   "execution_count": 68,
   "metadata": {},
   "outputs": [
    {
     "name": "stdout",
     "output_type": "stream",
     "text": [
      "8600 1 1 -10.80 141.93 2 -10.24 141.68 3 -9.68 141.66 4 -7.21 143.45 5 -6.69 143.57 6 -3.72 143.49 7 -3.43 143.39 8 0.00 143.48 9 3.63 143.41 10 4.82 143.26 11 7.18 141.71 12 7.92 141.71 13 8.27 141.87\n"
     ]
    }
   ],
   "source": [
    "wyn = []\n",
    "wyn.append(hektometr)\n",
    "wyn.append('1')\n",
    "for p in lista:\n",
    "    wyn.append(f\"{p} {LP.rzutuj(wykaz_pkt[p]) - LP.rzutuj(wykaz_pkt[os]):.2f} {wykaz_pkt[p].h}\")\n",
    "\n",
    "print(' '.join(wyn))"
   ]
  },
  {
   "cell_type": "code",
   "execution_count": 69,
   "metadata": {},
   "outputs": [
    {
     "name": "stdout",
     "output_type": "stream",
     "text": [
      "[141.93, 141.68, 141.66, 143.45, 143.57, 143.49, 143.39, 143.48, 143.41, 143.26, 141.71, 141.71, 141.87]\n",
      "13\n",
      "13\n",
      "[(-10.795117797857944, 1.93), (-10.244329301252405, 1.68), (-9.684513719646528, 1.66), (-7.205396372444366, 3.45), (-6.6862105370777725, 3.57), (-3.7234649384978473, 3.49), (-3.4322693579200694, 3.39), (0.0, 3.48), (3.630917659450482, 3.41), (4.818836797437113, 3.26), (7.179442852351283, 1.71), (7.920975048460228, 1.71), (8.269732058467937, 1.87)]\n"
     ]
    }
   ],
   "source": [
    "wysokosci = []\n",
    "for p in lista:\n",
    "    wysokosci.append(wykaz_pkt[p].h)\n",
    "\n",
    "print(wysokosci)\n",
    "\n",
    "h_lim = min(wysokosci)//1-1\n",
    "\n",
    "for i, h in enumerate(wysokosci):\n",
    "    wysokosci[i] = round(h - h_lim,2)\n",
    "print(len(wysokosci))\n",
    "\n",
    "biezace = []\n",
    "for p in lista:\n",
    "    biezace.append(LP.rzutuj(wykaz_pkt[p]) - LP.rzutuj(wykaz_pkt[os]))\n",
    "print(len(biezace))\n",
    "\n",
    "print(list(zip(biezace,wysokosci)))"
   ]
  },
  {
   "cell_type": "code",
   "execution_count": 72,
   "metadata": {},
   "outputs": [],
   "source": [
    "doc = ezdxf.new()\n",
    "prz = list(zip(biezace,wysokosci))\n",
    "msp = doc.modelspace()\n",
    "\n",
    "msp.add_polyline2d(list(zip(biezace,wysokosci)))\n",
    "\n",
    "for p in list(zip(biezace,wysokosci)):\n",
    "    msp.add_line(p,(p[0],0))\n",
    "    msp.add_text(f\"{p[0]:+.2f} \", height = 0.2, rotation=90).set_placement((p[0],0),align=TextEntityAlignment.MIDDLE_RIGHT)\n",
    "    msp.add_text(f\"{p[1]+h_lim:+.2f} \", height = 0.2, rotation=90).set_placement((p[0],-1),align=TextEntityAlignment.MIDDLE_RIGHT)\n",
    "\n",
    "for dupa in zip(lista,prz):\n",
    "    msp.add_text(f\"{dupa[0]}\",height = 0.2).set_placement(dupa[1], align=TextEntityAlignment.BOTTOM_CENTER)\n",
    "\n",
    "for i, p in enumerate(prz[:-1]):\n",
    "    msp.add_line((prz[i][0],0), (prz[i+1][0],0))\n",
    "\n",
    "msp.add_text(f\"{h_lim}\",height = 0.35).set_placement((prz[0][0],0),align=TextEntityAlignment.BOTTOM_RIGHT)\n",
    "\n",
    "#print(dir(msp))\n",
    "doc.saveas(f\"DXF\\\\{hektometr}.dxf\")"
   ]
  }
 ],
 "metadata": {
  "kernelspec": {
   "display_name": "Python 3",
   "language": "python",
   "name": "python3"
  },
  "language_info": {
   "codemirror_mode": {
    "name": "ipython",
    "version": 3
   },
   "file_extension": ".py",
   "mimetype": "text/x-python",
   "name": "python",
   "nbconvert_exporter": "python",
   "pygments_lexer": "ipython3",
   "version": "3.11.0"
  },
  "orig_nbformat": 4,
  "vscode": {
   "interpreter": {
    "hash": "decee46b519109469e4cb914493b944e1415be322004be49ddb643f35f9645dc"
   }
  }
 },
 "nbformat": 4,
 "nbformat_minor": 2
}
