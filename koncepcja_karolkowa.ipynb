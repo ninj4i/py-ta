{
 "cells": [
  {
   "cell_type": "code",
   "execution_count": 1,
   "metadata": {},
   "outputs": [],
   "source": [
    "from math import sqrt, pi, atan, sin, cos\n"
   ]
  },
  {
   "cell_type": "code",
   "execution_count": 14,
   "metadata": {},
   "outputs": [],
   "source": [
    "def obl_az(P, K):\n",
    "    dx = K.x - P.x\n",
    "    dy = K.y - P.y\n",
    "\n",
    "    if dx > 0:\n",
    "        if dy > 0:\n",
    "            return atan(dy/dx)\n",
    "        elif dy == 0:\n",
    "            return 0\n",
    "        else:\n",
    "            return atan(dy/dx) + 2 * pi\n",
    "    elif dx == 0:\n",
    "        if dy > 0:\n",
    "            return pi/2\n",
    "        elif dy < 0:\n",
    "            return 1.5 * pi\n",
    "        else:\n",
    "            return None\n",
    "    else:\n",
    "        if dy > 0:\n",
    "            return atan(dy/dx) + pi\n",
    "        elif dy == 0:\n",
    "            return pi\n",
    "        else:\n",
    "            return atan(dy/dx) + pi\n",
    "\n",
    "class Punkt:\n",
    "    def __init__(self, nr, x, y, h = None):\n",
    "        self.nr = nr\n",
    "        self.x = x\n",
    "        self.y = y\n",
    "        self.h = h if h != None else None\n",
    "\n",
    "    def odl_do(self, other):\n",
    "        return sqrt((self.x - other.x)**2 + (self.y - other.y)**2)\n",
    "\n",
    "\n",
    "\n",
    "    def __sub__(self, other):\n",
    "        return Punkt(None, self.x - other.x, self.y - other.y, self.h - other.h)\n",
    "\n",
    "    def __repr__(self):\n",
    "        if self.nr == None:\n",
    "            return(f\"[dx dy dh] : [{self.x:.3f} {self.y:.3f} {self.h:.3f}]\")\n",
    "        else:\n",
    "            return(f\"[nr x y h] : [{str(self.nr)} {self.x:.3f} {self.y:.3f} {self.h:.3f}]\")  \n",
    "\n",
    "    def __str__(self):\n",
    "        if self.nr == None:\n",
    "            return(f\"[dx dy dh] : [{self.x:.3f} {self.y:.3f} {self.h:.3f}]\")\n",
    "        else:\n",
    "            return(f\"[nr x y h] : [{str(self.nr)} {self.x:.3f} {self.y:.3f} {self.h:.3f}]\")   \n",
    "\n",
    "class LiniaPomiarowa:\n",
    "    def __init__(self, P: Punkt, K: Punkt) -> None:\n",
    "        self.P = P\n",
    "        self.K = K\n",
    "        self.dx = self.K.x - self.P.x\n",
    "        self.dy = self.K.y - self.P.y\n",
    "    \n",
    "\n",
    "        self.az = obl_az(self.P, self.K)\n",
    "        self.dl = sqrt((self.P.x - self.K.x)**2 + (self.K.y-self.P.y)**2)\n",
    "    \n",
    "    \n",
    "    def rzutuj (self, pkt: Punkt):\n",
    "        dx = pkt.x - self.P.x\n",
    "        dy = pkt.y - self.P.y\n",
    "        b = dy * sin(self.az) + dx * cos(self.az)    \n",
    "        \n",
    "        return b"
   ]
  },
  {
   "cell_type": "code",
   "execution_count": 3,
   "metadata": {},
   "outputs": [],
   "source": [
    "with open('wykaz.txt') as plik:\n",
    "    wykaz = {int(linia.strip().split()[0]) : (round(float(linia.strip().split()[1]), 3), round(float(linia.strip().split()[2]), 3), round(float(linia.strip().split()[3]),3)) for linia in plik.readlines()}\n",
    "\n",
    "    wykaz_pkt = {ki : Punkt(ki, *valju) for ki, valju in wykaz.items()}"
   ]
  },
  {
   "cell_type": "code",
   "execution_count": 17,
   "metadata": {},
   "outputs": [],
   "source": [
    "hektometr = input('Podaj hektometr: ')"
   ]
  },
  {
   "cell_type": "code",
   "execution_count": 10,
   "metadata": {},
   "outputs": [
    {
     "name": "stdout",
     "output_type": "stream",
     "text": [
      "[10, 9, 8, 7, 6, 5, 4, 3, 2, 1]\n",
      "4\n"
     ]
    }
   ],
   "source": [
    "inpiut = input('Podaj numery punktów: skrajnego lewego, skrajnego prawego, osiowego \\nrozdzielone spacjami: ').strip().split()\n",
    "inpiut = [int(i) for i in inpiut]\n",
    "\n",
    "os = inpiut[-1]\n",
    "reverse = False\n",
    "if inpiut[0] > inpiut[1]:\n",
    "    reverse = True\n",
    "\n",
    "lista = sorted([i for i in range(min(inpiut), max(inpiut)+1)], reverse = reverse)\n",
    "\n",
    "print(lista)\n",
    "print(os)\n",
    "\n"
   ]
  },
  {
   "cell_type": "code",
   "execution_count": 16,
   "metadata": {},
   "outputs": [
    {
     "name": "stdout",
     "output_type": "stream",
     "text": [
      "-12.024407484681447\n",
      "-10.836403139055916\n",
      "-7.205610289927727\n",
      "-3.7732035051949104\n",
      "-3.4820033014742044\n",
      "-0.519200712951843\n",
      "0.0\n",
      "2.478781841974552\n",
      "3.0387920851158405\n",
      "3.5895926436545906\n"
     ]
    }
   ],
   "source": [
    "LP = LiniaPomiarowa(wykaz_pkt[lista[0]],wykaz_pkt[lista[-1]])\n",
    "for p in lista:\n",
    "    print(LP.rzutuj(wykaz_pkt[p]) - LP.rzutuj(wykaz_pkt[os]))"
   ]
  },
  {
   "cell_type": "code",
   "execution_count": 23,
   "metadata": {},
   "outputs": [
    {
     "name": "stdout",
     "output_type": "stream",
     "text": [
      "1111 1 10 -12.02 143.26 9 -10.84 143.41 8 -7.21 143.48 7 -3.77 143.39 6 -3.48 143.49 5 -0.52 143.57 4 0.00 143.45 3 2.48 141.66 2 3.04 141.68 1 3.59 141.93\n"
     ]
    }
   ],
   "source": [
    "wyn = []\n",
    "wyn.append(hektometr)\n",
    "wyn.append('1')\n",
    "for p in lista:\n",
    "    wyn.append(f\"{p} {LP.rzutuj(wykaz_pkt[p]) - LP.rzutuj(wykaz_pkt[os]):.2f} {wykaz_pkt[p].h}\")\n",
    "\n",
    "print(' '.join(wyn))"
   ]
  }
 ],
 "metadata": {
  "kernelspec": {
   "display_name": "Python 3",
   "language": "python",
   "name": "python3"
  },
  "language_info": {
   "codemirror_mode": {
    "name": "ipython",
    "version": 3
   },
   "file_extension": ".py",
   "mimetype": "text/x-python",
   "name": "python",
   "nbconvert_exporter": "python",
   "pygments_lexer": "ipython3",
   "version": "3.11.0"
  },
  "orig_nbformat": 4,
  "vscode": {
   "interpreter": {
    "hash": "5238573367df39f7286bb46f9ff5f08f63a01a80960060ce41e3c79b190280fa"
   }
  }
 },
 "nbformat": 4,
 "nbformat_minor": 2
}
