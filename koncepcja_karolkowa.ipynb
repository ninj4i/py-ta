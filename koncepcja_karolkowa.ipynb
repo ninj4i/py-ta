{
 "cells": [
  {
   "cell_type": "code",
   "execution_count": 115,
   "metadata": {},
   "outputs": [],
   "source": [
    "from math import sqrt, pi, atan, sin, cos\n",
    "\n"
   ]
  },
  {
   "cell_type": "code",
   "execution_count": 116,
   "metadata": {},
   "outputs": [],
   "source": [
    "def obl_az(P, K):\n",
    "    dx = K.x - P.x\n",
    "    dy = K.y - P.y\n",
    "\n",
    "    if dx > 0:\n",
    "        if dy > 0:\n",
    "            return atan(dy/dx)\n",
    "        elif dy == 0:\n",
    "            return 0\n",
    "        else:\n",
    "            return atan(dy/dx) + 2 * pi\n",
    "    elif dx == 0:\n",
    "        if dy > 0:\n",
    "            return pi/2\n",
    "        elif dy < 0:\n",
    "            return 1.5 * pi\n",
    "        else:\n",
    "            return None\n",
    "    else:\n",
    "        if dy > 0:\n",
    "            return atan(dy/dx) + pi\n",
    "        elif dy == 0:\n",
    "            return pi\n",
    "        else:\n",
    "            return atan(dy/dx) + pi\n",
    "\n",
    "class Punkt:\n",
    "    def __init__(self, nr, x, y, h = None):\n",
    "        self.nr = nr\n",
    "        self.x = x\n",
    "        self.y = y\n",
    "        self.h = h if h != None else None\n",
    "\n",
    "    def odl_do(self, other):\n",
    "        return sqrt((self.x - other.x)**2 + (self.y - other.y)**2)\n",
    "\n",
    "\n",
    "\n",
    "    def __sub__(self, other):\n",
    "        return Punkt(None, self.x - other.x, self.y - other.y, self.h - other.h)\n",
    "\n",
    "    def __repr__(self):\n",
    "        if self.nr == None:\n",
    "            return(f\"[dx dy dh] : [{self.x:.3f} {self.y:.3f} {self.h:.3f}]\")\n",
    "        else:\n",
    "            return(f\"[nr x y h] : [{str(self.nr)} {self.x:.3f} {self.y:.3f} {self.h:.3f}]\")  \n",
    "\n",
    "    def __str__(self):\n",
    "        if self.nr == None:\n",
    "            return(f\"[dx dy dh] : [{self.x:.3f} {self.y:.3f} {self.h:.3f}]\")\n",
    "        else:\n",
    "            return(f\"[nr x y h] : [{str(self.nr)} {self.x:.3f} {self.y:.3f} {self.h:.3f}]\")   \n",
    "\n",
    "class LiniaPomiarowa:\n",
    "    def __init__(self, P: Punkt, K: Punkt) -> None:\n",
    "        self.P = P\n",
    "        self.K = K\n",
    "        self.dx = self.K.x - self.P.x\n",
    "        self.dy = self.K.y - self.P.y\n",
    "    \n",
    "\n",
    "        self.az = obl_az(self.P, self.K)\n",
    "        self.dl = sqrt((self.P.x - self.K.x)**2 + (self.K.y-self.P.y)**2)\n",
    "    def rzutuj (self, pkt: Punkt):\n",
    "        \n",
    "        \n",
    "        pass"
   ]
  },
  {
   "cell_type": "code",
   "execution_count": 117,
   "metadata": {},
   "outputs": [],
   "source": [
    "with open('wykaz.txt') as plik:\n",
    "    wykaz = {int(linia.strip().split()[0]) : (round(float(linia.strip().split()[1]), 3), round(float(linia.strip().split()[2]), 3), round(float(linia.strip().split()[3]),3)) for linia in plik.readlines()}\n",
    "\n",
    "    wykaz_pkt = {ki : Punkt(ki, *valju) for ki, valju in wykaz.items()}"
   ]
  },
  {
   "cell_type": "code",
   "execution_count": 122,
   "metadata": {},
   "outputs": [
    {
     "data": {
      "text/plain": [
       "0.3697570657770254"
      ]
     },
     "execution_count": 122,
     "metadata": {},
     "output_type": "execute_result"
    }
   ],
   "source": [
    "sin(LiniaPomiarowa(wykaz_pkt[1],wykaz_pkt[100]).az)"
   ]
  },
  {
   "cell_type": "code",
   "execution_count": 123,
   "metadata": {},
   "outputs": [
    {
     "data": {
      "text/plain": [
       "-0.9291284692161599"
      ]
     },
     "execution_count": 123,
     "metadata": {},
     "output_type": "execute_result"
    }
   ],
   "source": [
    "LiniaPomiarowa(wykaz_pkt[1],wykaz_pkt[100]).dx/LiniaPomiarowa(wykaz_pkt[1],wykaz_pkt[100]).dl"
   ]
  },
  {
   "cell_type": "code",
   "execution_count": 120,
   "metadata": {},
   "outputs": [
    {
     "name": "stdout",
     "output_type": "stream",
     "text": [
      "-153.02999999932945\n",
      "60.90000000037253\n"
     ]
    }
   ],
   "source": [
    "print(LiniaPomiarowa(wykaz_pkt[1],wykaz_pkt[100]).dx)\n",
    "print(LiniaPomiarowa(wykaz_pkt[1],wykaz_pkt[100]).dy)"
   ]
  },
  {
   "cell_type": "code",
   "execution_count": 121,
   "metadata": {},
   "outputs": [
    {
     "name": "stdout",
     "output_type": "stream",
     "text": [
      "[1, 2]\n"
     ]
    }
   ],
   "source": [
    "inpiut = input('Podaj numery punktów, skrajnego lewego, skrajnego prawego \\nrozdzielone spacjami: ').strip().split()\n",
    "inpiut = [int(i) for i in inpiut]\n",
    "reverse = False\n",
    "if inpiut[0] > inpiut[1]:\n",
    "    reverse = True\n",
    "\n",
    "lista = sorted([i for i in range(min(inpiut), max(inpiut)+1)], reverse = reverse)\n",
    "\n",
    "print(lista)"
   ]
  }
 ],
 "metadata": {
  "kernelspec": {
   "display_name": "Python 3",
   "language": "python",
   "name": "python3"
  },
  "language_info": {
   "codemirror_mode": {
    "name": "ipython",
    "version": 3
   },
   "file_extension": ".py",
   "mimetype": "text/x-python",
   "name": "python",
   "nbconvert_exporter": "python",
   "pygments_lexer": "ipython3",
   "version": "3.11.0"
  },
  "orig_nbformat": 4,
  "vscode": {
   "interpreter": {
    "hash": "decee46b519109469e4cb914493b944e1415be322004be49ddb643f35f9645dc"
   }
  }
 },
 "nbformat": 4,
 "nbformat_minor": 2
}
