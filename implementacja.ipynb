{
 "cells": [
  {
   "cell_type": "code",
   "execution_count": 3,
   "metadata": {},
   "outputs": [],
   "source": [
    "import ezdxf\n",
    "from math import atan"
   ]
  },
  {
   "cell_type": "code",
   "execution_count": 4,
   "metadata": {},
   "outputs": [],
   "source": [
    "rysunek = ezdxf.readfile('pol-poprzeczki.dxf')\n",
    "model = rysunek.modelspace()"
   ]
  },
  {
   "cell_type": "code",
   "execution_count": 5,
   "metadata": {},
   "outputs": [
    {
     "name": "stdout",
     "output_type": "stream",
     "text": [
      "<ezdxf.document.Drawing object at 0x000001A438019610>\n",
      "<ezdxf.layouts.layout.Modelspace object at 0x000001A447820590>\n"
     ]
    }
   ],
   "source": [
    "print(rysunek)\n",
    "print(model)"
   ]
  },
  {
   "cell_type": "code",
   "execution_count": 6,
   "metadata": {},
   "outputs": [],
   "source": [
    "for elt in model:\n",
    "    #print(elt.dxf.start)\n",
    "    #print(elt.dxf.end)\n",
    "    if (x := (elt.dxf.end-elt.dxf.start)) > ezdxf.acc.vector.Vec3(0,0,0):\n",
    "        elt.dxf.end, elt.dxf.start = elt.dxf.start, elt.dxf.end\n",
    "    \n",
    "rysunek.save()"
   ]
  },
  {
   "cell_type": "code",
   "execution_count": 7,
   "metadata": {},
   "outputs": [],
   "source": [
    "with open('wykaz.txt') as plik:\n",
    "    wykaz = {linia.strip().split()[0]:(float(linia.strip().split()[1]), float(linia.strip().split()[2]), float(linia.strip().split()[3])) for linia in plik.readlines()}"
   ]
  },
  {
   "cell_type": "code",
   "execution_count": 8,
   "metadata": {},
   "outputs": [
    {
     "ename": "SyntaxError",
     "evalue": "incomplete input (2983881546.py, line 16)",
     "output_type": "error",
     "traceback": [
      "\u001b[1;36m  Cell \u001b[1;32mIn [8], line 16\u001b[1;36m\u001b[0m\n\u001b[1;33m    ##\u001b[0m\n\u001b[1;37m      ^\u001b[0m\n\u001b[1;31mSyntaxError\u001b[0m\u001b[1;31m:\u001b[0m incomplete input\n"
     ]
    }
   ],
   "source": [
    "def obl_az(P, K):\n",
    "    dx = K[0] - P[0]\n",
    "    dy = K[1] - P[1]\n",
    "\n",
    "\n",
    "\n",
    "\n",
    "\n",
    "class LiniaPomiarowa:\n",
    "    def __init__(self, dxf_line_obj) -> None:\n",
    "        self.P = dxf_line_obj.dxf.start\n",
    "        self.K = dxf_line_obj.dxf.end\n",
    "\n",
    "    \n",
    "    def rzutuj (self, pkt):\n",
    "        pass\n"
   ]
  }
 ],
 "metadata": {
  "kernelspec": {
   "display_name": "Python 3",
   "language": "python",
   "name": "python3"
  },
  "language_info": {
   "codemirror_mode": {
    "name": "ipython",
    "version": 3
   },
   "file_extension": ".py",
   "mimetype": "text/x-python",
   "name": "python",
   "nbconvert_exporter": "python",
   "pygments_lexer": "ipython3",
   "version": "3.11.0"
  },
  "orig_nbformat": 4,
  "vscode": {
   "interpreter": {
    "hash": "decee46b519109469e4cb914493b944e1415be322004be49ddb643f35f9645dc"
   }
  }
 },
 "nbformat": 4,
 "nbformat_minor": 2
}
