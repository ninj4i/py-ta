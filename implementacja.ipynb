{
 "cells": [
  {
   "cell_type": "code",
   "execution_count": 2,
   "metadata": {},
   "outputs": [],
   "source": [
    "import ezdxf\n",
    "from math import atan, pi, sqrt"
   ]
  },
  {
   "cell_type": "code",
   "execution_count": 3,
   "metadata": {},
   "outputs": [],
   "source": [
    "rysunek = ezdxf.readfile('pol-poprzeczki.dxf')\n",
    "model = rysunek.modelspace()"
   ]
  },
  {
   "cell_type": "code",
   "execution_count": 4,
   "metadata": {},
   "outputs": [],
   "source": [
    "for elt in model:\n",
    "    #print(elt.dxf.start)\n",
    "    #print(elt.dxf.end)\n",
    "    if (x := (elt.dxf.end-elt.dxf.start)) > ezdxf.acc.vector.Vec3(0,0,0):\n",
    "        elt.dxf.end, elt.dxf.start = elt.dxf.start, elt.dxf.end\n",
    "    \n",
    "rysunek.save()"
   ]
  },
  {
   "cell_type": "code",
   "execution_count": 5,
   "metadata": {},
   "outputs": [
    {
     "name": "stdout",
     "output_type": "stream",
     "text": [
      "<ezdxf.document.Drawing object at 0x00000212FE0E4510>\n",
      "<ezdxf.layouts.layout.Modelspace object at 0x00000212FF388BD0>\n"
     ]
    }
   ],
   "source": [
    "print(rysunek)\n",
    "print(model)"
   ]
  },
  {
   "cell_type": "code",
   "execution_count": 6,
   "metadata": {},
   "outputs": [],
   "source": [
    "with open('wykaz.txt') as plik:\n",
    "    wykaz = {linia.strip().split()[0]:(float(linia.strip().split()[1]), float(linia.strip().split()[2]), float(linia.strip().split()[3])) for linia in plik.readlines()}"
   ]
  },
  {
   "cell_type": "code",
   "execution_count": 12,
   "metadata": {},
   "outputs": [
    {
     "ename": "SyntaxError",
     "evalue": "invalid syntax (3700485823.py, line 47)",
     "output_type": "error",
     "traceback": [
      "\u001b[1;36m  Cell \u001b[1;32mIn [12], line 47\u001b[1;36m\u001b[0m\n\u001b[1;33m    self.dl =\u001b[0m\n\u001b[1;37m              ^\u001b[0m\n\u001b[1;31mSyntaxError\u001b[0m\u001b[1;31m:\u001b[0m invalid syntax\n"
     ]
    }
   ],
   "source": [
    "def obl_az(P, K):\n",
    "    dx = K[0] - P[0]\n",
    "    dy = K[1] - P[1]\n",
    "\n",
    "    if dx > 0:\n",
    "        if dy > 0:\n",
    "            return atan(dy/dx)\n",
    "        elif dy == 0:\n",
    "            return 0\n",
    "        else:\n",
    "            return atan(dy/dx) + 2 * pi\n",
    "    elif dx == 0:\n",
    "        if dy > 0:\n",
    "            return pi/2\n",
    "        elif dy < 0:\n",
    "            return 1.5 * pi\n",
    "        else:\n",
    "            return None\n",
    "    else:\n",
    "        if dy > 0:\n",
    "            return atan(dy/dx) + pi\n",
    "        elif dy == 0:\n",
    "            return pi\n",
    "        else:\n",
    "            return atan(dy/dx) + pi\n",
    "\n",
    "class Punkt:\n",
    "    def __init__(self, nr, x, y, h = None):\n",
    "        self.nr = str(nr)\n",
    "        self.x = x\n",
    "        self.y = y\n",
    "        self.h = h if h != None else None\n",
    "\n",
    "    def __sub__(self, other):\n",
    "        self.x -= other.x\n",
    "        self.y -= other.y\n",
    "        self.h -= other.h\n",
    "\n",
    "\n",
    "\n",
    "\n",
    "class LiniaPomiarowa:\n",
    "    def __init__(self, P, K) -> None:\n",
    "        self.P = P\n",
    "        self.K = K\n",
    "        self.az = obl_az((self.P[0],self.P[1]), (self.K[0],self.K[1]))\n",
    "        self.dl = sqrt()\n",
    "    def rzutuj (self, pkt: tuple):\n",
    "        \n",
    "        \n",
    "        pass\n"
   ]
  },
  {
   "cell_type": "code",
   "execution_count": 11,
   "metadata": {},
   "outputs": [
    {
     "name": "stdout",
     "output_type": "stream",
     "text": [
      "(8471493.706985833, 5856522.499242934, 0.0)\n",
      "(8471480.612686286, 5856515.609478233, 0.0)\n",
      "242.248216479692\n"
     ]
    }
   ],
   "source": [
    "for elt in model:\n",
    "    q = LiniaPomiarowa(elt)\n",
    "    print(q.P)\n",
    "    print(q.K)\n",
    "    print(q.az*180/pi)\n",
    "    break"
   ]
  },
  {
   "cell_type": "code",
   "execution_count": null,
   "metadata": {},
   "outputs": [],
   "source": []
  }
 ],
 "metadata": {
  "kernelspec": {
   "display_name": "Python 3",
   "language": "python",
   "name": "python3"
  },
  "language_info": {
   "codemirror_mode": {
    "name": "ipython",
    "version": 3
   },
   "file_extension": ".py",
   "mimetype": "text/x-python",
   "name": "python",
   "nbconvert_exporter": "python",
   "pygments_lexer": "ipython3",
   "version": "3.11.0"
  },
  "orig_nbformat": 4,
  "vscode": {
   "interpreter": {
    "hash": "decee46b519109469e4cb914493b944e1415be322004be49ddb643f35f9645dc"
   }
  }
 },
 "nbformat": 4,
 "nbformat_minor": 2
}
