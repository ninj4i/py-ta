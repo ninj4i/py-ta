{
 "cells": [
  {
   "cell_type": "code",
   "execution_count": 1,
   "metadata": {},
   "outputs": [],
   "source": [
    "import ezdxf\n",
    "from math import atan, pi"
   ]
  },
  {
   "cell_type": "code",
   "execution_count": 2,
   "metadata": {},
   "outputs": [],
   "source": [
    "rysunek = ezdxf.readfile('pol-poprzeczki.dxf')\n",
    "model = rysunek.modelspace()"
   ]
  },
  {
   "cell_type": "code",
   "execution_count": 3,
   "metadata": {},
   "outputs": [
    {
     "name": "stdout",
     "output_type": "stream",
     "text": [
      "<ezdxf.document.Drawing object at 0x000001AFC9F0E150>\n",
      "<ezdxf.layouts.layout.Modelspace object at 0x000001AFCAB66CD0>\n"
     ]
    }
   ],
   "source": [
    "print(rysunek)\n",
    "print(model)"
   ]
  },
  {
   "cell_type": "code",
   "execution_count": 4,
   "metadata": {},
   "outputs": [],
   "source": [
    "for elt in model:\n",
    "    #print(elt.dxf.start)\n",
    "    #print(elt.dxf.end)\n",
    "    if (x := (elt.dxf.end-elt.dxf.start)) > ezdxf.acc.vector.Vec3(0,0,0):\n",
    "        elt.dxf.end, elt.dxf.start = elt.dxf.start, elt.dxf.end\n",
    "    \n",
    "rysunek.save()"
   ]
  },
  {
   "cell_type": "code",
   "execution_count": 5,
   "metadata": {},
   "outputs": [],
   "source": [
    "with open('wykaz.txt') as plik:\n",
    "    wykaz = {linia.strip().split()[0]:(float(linia.strip().split()[1]), float(linia.strip().split()[2]), float(linia.strip().split()[3])) for linia in plik.readlines()}"
   ]
  },
  {
   "cell_type": "code",
   "execution_count": 6,
   "metadata": {},
   "outputs": [],
   "source": [
    "def obl_az(P, K):\n",
    "    dx = K[0] - P[0]\n",
    "    dy = K[1] - P[1]\n",
    "\n",
    "    if dx > 0:\n",
    "        if dy > 0:\n",
    "            return atan(dy/dx)\n",
    "        elif dy == 0:\n",
    "            return 0\n",
    "        else:\n",
    "            return atan(dy/dx) + 2 * pi\n",
    "    elif dx == 0:\n",
    "        if dy > 0:\n",
    "            return pi/2\n",
    "        elif dy < 0:\n",
    "            return 1.5 * pi\n",
    "        else:\n",
    "            return None\n",
    "    else:\n",
    "        if dy > 0:\n",
    "            return atan(dy/dx) + pi\n",
    "        elif dy == 0:\n",
    "            return pi\n",
    "        else:\n",
    "            return atan(dy/dx) + pi\n",
    "\n",
    "\n",
    "\n",
    "class LiniaPomiarowa:\n",
    "    def __init__(self, dxf_line_obj) -> None:\n",
    "        self.P = dxf_line_obj.dxf.start\n",
    "        self.K = dxf_line_obj.dxf.end\n",
    "\n",
    "    \n",
    "    def rzutuj (self, pkt):\n",
    "        pass\n"
   ]
  },
  {
   "cell_type": "code",
   "execution_count": 10,
   "metadata": {},
   "outputs": [
    {
     "data": {
      "text/plain": [
       "349.99999999999994"
      ]
     },
     "execution_count": 10,
     "metadata": {},
     "output_type": "execute_result"
    }
   ],
   "source": [
    "obl_az((0,0),(1,-1))*200/pi"
   ]
  }
 ],
 "metadata": {
  "kernelspec": {
   "display_name": "Python 3",
   "language": "python",
   "name": "python3"
  },
  "language_info": {
   "codemirror_mode": {
    "name": "ipython",
    "version": 3
   },
   "file_extension": ".py",
   "mimetype": "text/x-python",
   "name": "python",
   "nbconvert_exporter": "python",
   "pygments_lexer": "ipython3",
   "version": "3.11.0"
  },
  "orig_nbformat": 4,
  "vscode": {
   "interpreter": {
    "hash": "5238573367df39f7286bb46f9ff5f08f63a01a80960060ce41e3c79b190280fa"
   }
  }
 },
 "nbformat": 4,
 "nbformat_minor": 2
}
